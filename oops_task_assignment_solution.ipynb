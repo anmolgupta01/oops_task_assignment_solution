{
 "cells": [
  {
   "cell_type": "markdown",
   "id": "b8f6a552",
   "metadata": {},
   "source": [
    "Q1, Create a vehicle class with an init method having instance variables as name_of_vehicle, max_speed \n",
    "and average_of_vehicle. "
   ]
  },
  {
   "cell_type": "code",
   "execution_count": 2,
   "id": "dd2bdb43",
   "metadata": {},
   "outputs": [
    {
     "data": {
      "text/plain": [
       "('thar', 150, 20)"
      ]
     },
     "execution_count": 2,
     "metadata": {},
     "output_type": "execute_result"
    }
   ],
   "source": [
    "class vehicle():\n",
    "    def __init__(self,name_of_vehicle, max_speed,average_of_vehicle):\n",
    "        self.name_of_vehicle = name_of_vehicle\n",
    "        self.max_speed = max_speed\n",
    "        self.average_of_vehicle = average_of_vehicle\n",
    "        \n",
    "    def get_information(self):\n",
    "        return self.name_of_vehicle,self.max_speed,self.average_of_vehicle\n",
    "    \n",
    "car1 = vehicle(\"thar\",150,20)\n",
    "car1.get_information()"
   ]
  },
  {
   "cell_type": "markdown",
   "id": "9707d38a",
   "metadata": {},
   "source": [
    "Q2.  Create a child class car from the vehicle class created in Que 1, which will inherit the vehicle class. \n",
    "Create a method named seating_capacity which takes capacity as an argument and returns the name of \n",
    "the vehicle and its seating capacity"
   ]
  },
  {
   "cell_type": "code",
   "execution_count": 3,
   "id": "98ffd51f",
   "metadata": {},
   "outputs": [
    {
     "name": "stdout",
     "output_type": "stream",
     "text": [
      "Sedan has a seating capacity of 5 passengers.\n",
      "SUV has a seating capacity of 7 passengers.\n"
     ]
    }
   ],
   "source": [
    "class Vehicle:\n",
    "    def __init__(self, name_of_vehicle, max_speed, average_speed):\n",
    "        self.name_of_vehicle = name_of_vehicle\n",
    "        self.max_speed = max_speed\n",
    "        self.average_speed = average_speed\n",
    "\n",
    "class Car(Vehicle):\n",
    "    def __init__(self, name_of_vehicle, max_speed, average_speed):\n",
    "        super().__init__(name_of_vehicle, max_speed, average_speed)\n",
    "    \n",
    "    def seating_capacity(self, capacity):\n",
    "        return f\"{self.name_of_vehicle} has a seating capacity of {capacity} passengers.\"\n",
    "\n",
    "# Creating instances of the Car class\n",
    "car = Car(\"Sedan\", 180, 60)\n",
    "suv = Car(\"SUV\", 160, 50)\n",
    "\n",
    "# Using the method from the child class\n",
    "print(car.seating_capacity(5))\n",
    "print(suv.seating_capacity(7))\n",
    "\n",
    "        "
   ]
  },
  {
   "cell_type": "markdown",
   "id": "ab9802f7",
   "metadata": {},
   "source": [
    "Q3. What is multiple inheritance? Write a python code to demonstrate multiple inheritance."
   ]
  },
  {
   "cell_type": "markdown",
   "id": "5ca31ffd",
   "metadata": {},
   "source": [
    "Multiple Inheritance: In multiple inheritance, a derived class inherits properties and behaviors from multiple base classes."
   ]
  },
  {
   "cell_type": "code",
   "execution_count": 4,
   "id": "b423c8f6",
   "metadata": {},
   "outputs": [
    {
     "name": "stdout",
     "output_type": "stream",
     "text": [
      "6 feet\n"
     ]
    },
    {
     "data": {
      "text/plain": [
       "'fair'"
      ]
     },
     "execution_count": 4,
     "metadata": {},
     "output_type": "execute_result"
    }
   ],
   "source": [
    "#Multiple inheritance\n",
    "class grandparent:\n",
    "    def height(self):\n",
    "        print(\"6 feet\")\n",
    "\n",
    "class parent():\n",
    "    def color(self):\n",
    "        return(\"fair\")\n",
    "\n",
    "class Child(grandparent,parent):\n",
    "    def method3(self):\n",
    "        pass\n",
    "anmol = Child()\n",
    "anmol.height()\n",
    "anmol.color()"
   ]
  },
  {
   "cell_type": "markdown",
   "id": "63cc7b61",
   "metadata": {},
   "source": [
    "Q4. What are getter and setter in python? Create a class and create a getter and a setter method in this \n",
    "class"
   ]
  },
  {
   "cell_type": "markdown",
   "id": "2685013a",
   "metadata": {},
   "source": [
    "ANSWER]\n",
    "\n",
    "Getter Method: A getter method is used to retrieve the value of a private attribute (an attribute that starts with an \n",
    "underscore _) from an object. It provides controlled access to the attribute by encapsulating its retrieval logic within a method.\n",
    "\n",
    "Setter Method: A setter method is used to modify the value of a private attribute. It allows controlled modification of the attribute by encapsulating the modification logic within a method."
   ]
  },
  {
   "cell_type": "code",
   "execution_count": 5,
   "id": "f085345f",
   "metadata": {},
   "outputs": [
    {
     "data": {
      "text/plain": [
       "3500"
      ]
     },
     "execution_count": 5,
     "metadata": {},
     "output_type": "execute_result"
    }
   ],
   "source": [
    "class pwskills :\n",
    "    \n",
    "    def __init__(self , course_price , coruse_name):\n",
    "        \n",
    "        self.__course_price = course_price\n",
    "        self.course_name = coruse_name\n",
    "        \n",
    "    @property\n",
    "    def course_price_access(self) : \n",
    "        return self.__course_price\n",
    "    \n",
    "    @course_price_access.setter\n",
    "    def course_price_set(self , price ):\n",
    "        if price <= 3500:\n",
    "            pass\n",
    "        else :\n",
    "            self.__course_price = price\n",
    "            \n",
    "course1 = pwskills(3500,'data_science_batch')\n",
    "course1.course_price_access\n",
    "\n"
   ]
  },
  {
   "cell_type": "code",
   "execution_count": 6,
   "id": "799cdf2a",
   "metadata": {},
   "outputs": [
    {
     "data": {
      "text/plain": [
       "9000"
      ]
     },
     "execution_count": 6,
     "metadata": {},
     "output_type": "execute_result"
    }
   ],
   "source": [
    "course1.course_price_set = 9000\n",
    "course1.course_price_access"
   ]
  },
  {
   "cell_type": "markdown",
   "id": "4ab411a8",
   "metadata": {},
   "source": [
    "Q5.What is method overriding in python? Write a python code to demonstrate method overriding."
   ]
  },
  {
   "cell_type": "markdown",
   "id": "681f811c",
   "metadata": {},
   "source": [
    "Method overriding in Python is a concept that allows a subclass to provide a specific implementation for a method that is already defined in its superclass. When a subclass defines a method with the same name, same parameters, and the same signature as a method in its superclass, it is said to be \"overriding\" the method.\n",
    "\n",
    "Method overriding is a way to customize the behavior of inherited methods. When you call the overridden method on an instance of the subclass, the overridden implementation in the subclass is executed instead of the implementation in the superclass."
   ]
  },
  {
   "cell_type": "code",
   "execution_count": 7,
   "id": "25a00146",
   "metadata": {},
   "outputs": [
    {
     "name": "stdout",
     "output_type": "stream",
     "text": [
      "Animal speaks\n",
      "Dog barks\n",
      "Cat meows\n"
     ]
    }
   ],
   "source": [
    "class Animal:\n",
    "    def speak(self):\n",
    "        print(\"Animal speaks\")\n",
    "\n",
    "class Dog(Animal):\n",
    "    def speak(self):\n",
    "        print(\"Dog barks\")\n",
    "\n",
    "class Cat(Animal):\n",
    "    def speak(self):\n",
    "        print(\"Cat meows\")\n",
    "animal = Animal()\n",
    "dog = Dog()\n",
    "cat = Cat()\n",
    "\n",
    "animal.speak()\n",
    "dog.speak()  \n",
    "cat.speak() "
   ]
  },
  {
   "cell_type": "code",
   "execution_count": null,
   "id": "c512be2c",
   "metadata": {},
   "outputs": [],
   "source": []
  }
 ],
 "metadata": {
  "kernelspec": {
   "display_name": "Python 3 (ipykernel)",
   "language": "python",
   "name": "python3"
  },
  "language_info": {
   "codemirror_mode": {
    "name": "ipython",
    "version": 3
   },
   "file_extension": ".py",
   "mimetype": "text/x-python",
   "name": "python",
   "nbconvert_exporter": "python",
   "pygments_lexer": "ipython3",
   "version": "3.11.4"
  }
 },
 "nbformat": 4,
 "nbformat_minor": 5
}
